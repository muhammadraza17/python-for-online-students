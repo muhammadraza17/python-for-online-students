{
 "cells": [
  {
   "cell_type": "code",
   "execution_count": 10,
   "metadata": {},
   "outputs": [
    {
     "name": "stdout",
     "output_type": "stream",
     "text": [
      "enter first value50\n",
      "enter second value2\n",
      "enter operator**\n",
      "2500 answer\n"
     ]
    }
   ],
   "source": [
    "#1. Make a calculator using Python with addition , subtraction , multiplication ,division and power.\n",
    "val1 = input('enter first value')\n",
    "val2 = input('enter second value')\n",
    "operator = input('enter operator')\n",
    "\n",
    "val1=int(val1)\n",
    "val2=int(val2)\n",
    "\n",
    "if operator == '+':\n",
    "    val = val1 + val2\n",
    "    print(val,'answer')\n",
    "elif operator == '-':\n",
    "    val = val1 - val2\n",
    "    print(val,'answer')\n",
    "elif operator == '*':\n",
    "    val = val1 * val2\n",
    "    print(val,'answer')\n",
    "elif operator == '/':\n",
    "    val = val1 / val2\n",
    "    print(val,'answer')\n",
    "elif operator == '**':\n",
    "    val = val1 ** val2\n",
    "    print(val,'answer')\n",
    "\n",
    "else:\n",
    "    print('enter correct operator')"
   ]
  },
  {
   "cell_type": "code",
   "execution_count": 11,
   "metadata": {},
   "outputs": [
    {
     "name": "stdout",
     "output_type": "stream",
     "text": [
      "10 is a numeric value in List\n",
      "25 is a numeric value in List\n",
      "13.5 is a numeric value in List\n"
     ]
    }
   ],
   "source": [
    "#2. Write a program to check if there is any numeric value in list using for loop\n",
    "arr = ['Muhammad','raza',10,25,True,13.5,'x','y']\n",
    "for i in arr:\n",
    "    if type(i) == int:\n",
    "        print(i,\"is a numeric value in List\")\n",
    "    elif type(i) == float:\n",
    "        print(i,\"is a numeric value in List\")"
   ]
  },
  {
   "cell_type": "code",
   "execution_count": 5,
   "metadata": {},
   "outputs": [
    {
     "name": "stdout",
     "output_type": "stream",
     "text": [
      "14/3 karachi.\n"
     ]
    }
   ],
   "source": [
    "customer = {\n",
    "    \"first name\": \"muhammad\",\n",
    "    \"last name\": \"raza\",\n",
    "    \"address\": \"14/3 karachi.\"\n",
    "}\n",
    "print(customer [\"address\"])"
   ]
  },
  {
   "cell_type": "code",
   "execution_count": 6,
   "metadata": {},
   "outputs": [
    {
     "data": {
      "text/plain": [
       "{'first name': 'muhammad',\n",
       " 'last name': 'raza',\n",
       " 'address': '14/3 karachi.',\n",
       " 'COUNTRY': 'PAKISTAN'}"
      ]
     },
     "execution_count": 6,
     "metadata": {},
     "output_type": "execute_result"
    }
   ],
   "source": [
    "#3. Write a Python script to add a key to a dictionary\n",
    "customer.update({\"COUNTRY\":\"PAKISTAN\"})\n",
    "customer"
   ]
  },
  {
   "cell_type": "code",
   "execution_count": 7,
   "metadata": {},
   "outputs": [
    {
     "name": "stdout",
     "output_type": "stream",
     "text": [
      "Total sum of values in the dictionary:\n",
      "879\n"
     ]
    }
   ],
   "source": [
    "#4. Write a Python program to sum all the numeric items in a dictionary\n",
    "d={'A':100,'B':540,'C':239}\n",
    "print(\"Total sum of values in the dictionary:\")\n",
    "print(sum(d.values()))"
   ]
  },
  {
   "cell_type": "code",
   "execution_count": 8,
   "metadata": {},
   "outputs": [
    {
     "name": "stdout",
     "output_type": "stream",
     "text": [
      "[3, 9, 12]\n"
     ]
    }
   ],
   "source": [
    "#5. Write a program to identify duplicate values from list\n",
    "lst = [ 3, 6, 9, 12, 3, 30, 15, 9, 45, 36, 12, 12]\n",
    "dupItems = []\n",
    "uniqItems = {}\n",
    "for x in lst:\n",
    "   if x not in uniqItems:\n",
    "      uniqItems[x] = 1\n",
    "   else:\n",
    "      if uniqItems[x] == 1:\n",
    "         dupItems.append(x)\n",
    "      uniqItems[x] += 1\n",
    "print(dupItems) "
   ]
  },
  {
   "cell_type": "code",
   "execution_count": 9,
   "metadata": {},
   "outputs": [
    {
     "name": "stdout",
     "output_type": "stream",
     "text": [
      "Present,  value = 200\n",
      "Not present\n"
     ]
    }
   ],
   "source": [
    "#6. Write a Python script to check if a given key already exists in a dictionary\n",
    "def checkKey(dict, key): \n",
    "      \n",
    "    if key in dict.keys(): \n",
    "        print(\"Present, \", end =\" \") \n",
    "        print(\"value =\", dict[key]) \n",
    "    else: \n",
    "        print(\"Not present\") \n",
    "  \n",
    "# Driver Code \n",
    "dict = {'a': 100, 'b':200, 'c':300} \n",
    "  \n",
    "key = 'b'\n",
    "checkKey(dict, key) \n",
    "  \n",
    "key = 'w'\n",
    "checkKey(dict, key) "
   ]
  },
  {
   "cell_type": "code",
   "execution_count": null,
   "metadata": {},
   "outputs": [],
   "source": []
  }
 ],
 "metadata": {
  "kernelspec": {
   "display_name": "Python 3",
   "language": "python",
   "name": "python3"
  },
  "language_info": {
   "codemirror_mode": {
    "name": "ipython",
    "version": 3
   },
   "file_extension": ".py",
   "mimetype": "text/x-python",
   "name": "python",
   "nbconvert_exporter": "python",
   "pygments_lexer": "ipython3",
   "version": "3.7.4"
  }
 },
 "nbformat": 4,
 "nbformat_minor": 2
}
