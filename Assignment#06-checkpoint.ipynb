{
 "cells": [
  {
   "cell_type": "code",
   "execution_count": 10,
   "metadata": {},
   "outputs": [
    {
     "name": "stdout",
     "output_type": "stream",
     "text": [
      "Object-oriented programming – As the name suggests uses \n",
      "objectsin programming. Object-oriented programming aims\n",
      "to implement real-world entities like inheritance,hiding,\n",
      "polymorphism, etc in programming. The main aim of OOP \n",
      "is to bind together the data and the functions that \n",
      "operate on them so that no other part of the code can \n",
      "access this data except that function.\n"
     ]
    }
   ],
   "source": [
    "#Define Object Oriented Programming Language?\n",
    "print (\"\"\"Object-oriented programming – As the name suggests uses \n",
    "objectsin programming. Object-oriented programming aims\n",
    "to implement real-world entities like inheritance,hiding,\n",
    "polymorphism, etc in programming. The main aim of OOP \n",
    "is to bind together the data and the functions that \n",
    "operate on them so that no other part of the code can \n",
    "access this data except that function.\"\"\")"
   ]
  },
  {
   "cell_type": "code",
   "execution_count": 1,
   "metadata": {},
   "outputs": [
    {
     "name": "stdout",
     "output_type": "stream",
     "text": [
      "Modularity for easier troubleshooting\n",
      "Reuse of code through inheritance\n",
      "Flexibility through polymorphism\n",
      "Effective problem solving\n"
     ]
    }
   ],
   "source": [
    "#List down the Benefits of OOP?\n",
    "print(\"Modularity for easier troubleshooting\")\n",
    "print(\"Reuse of code through inheritance\")\n",
    "print(\"Flexibility through polymorphism\")\n",
    "print(\"Effective problem solving\")"
   ]
  },
  {
   "cell_type": "code",
   "execution_count": 3,
   "metadata": {},
   "outputs": [
    {
     "name": "stdout",
     "output_type": "stream",
     "text": [
      "Funtion\n",
      "if we have to use a task again and again we write that task in a function and call it when we need it.\n",
      "    we can pass arguments when calling a funtion if it takes parameters .\n",
      "    in function you have to pass class attributes as parameters else you can use them in function. \n",
      "Method\n",
      "\n",
      "Methods are same as functions there are very few differece in methods and functions which are:\n",
      "    1) methods are written in the scope of class\n",
      "    2) methods take \"self\" as first parameter , then you know that its a method\n",
      "    3) self in method takes all the attributes which are defined in class and u can use the attributes \n",
      "    in method using self keyword .\n",
      "    \n"
     ]
    }
   ],
   "source": [
    "#Differentiate between function and method?\n",
    "print('Funtion')\n",
    "print('''if we have to use a task again and again we write that task in a function and call it when we need it.\n",
    "    we can pass arguments when calling a funtion if it takes parameters .\n",
    "    in function you have to pass class attributes as parameters else you can use them in function. ''')\n",
    "print('Method')\n",
    "print('''\n",
    "Methods are same as functions there are very few differece in methods and functions which are:\n",
    "    1) methods are written in the scope of class\n",
    "    2) methods take \"self\" as first parameter , then you know that its a method\n",
    "    3) self in method takes all the attributes which are defined in class and u can use the attributes \n",
    "    in method using self keyword .\n",
    "    ''')"
   ]
  },
  {
   "cell_type": "code",
   "execution_count": 5,
   "metadata": {},
   "outputs": [
    {
     "name": "stdout",
     "output_type": "stream",
     "text": [
      "\n",
      "Class\n",
      "A Class is a user-defined data-type which has data \n",
      "members and member functions.\n",
      "\n",
      "Object\n",
      "An object is nothing but a self-contained component which \n",
      "consists of methods and properties to make a particular \n",
      "type of data useful. Object determines the behavior of the \n",
      "class. When you send a message to an object, you are asking the object to invoke or execute one of its methods.\n",
      "\n",
      "Attribute\n",
      "Attribute is a named property of a class. It has a type. It describes the range of values that that property may hold.\n",
      "\n",
      "Behavior\n",
      "The behavior of an object is defined by its methods, which are the functions and subroutines defined within the object class. Without class methods, a class would simply be a structure.\n"
     ]
    }
   ],
   "source": [
    "#Define the following terms: 1. Class 2. Object 3. Attribute 4. Behavior\n",
    "print(\"\"\"\n",
    "Class\n",
    "A Class is a user-defined data-type which has data \n",
    "members and member functions.\n",
    "\n",
    "Object\n",
    "An object is nothing but a self-contained component which \n",
    "consists of methods and properties to make a particular \n",
    "type of data useful. Object determines the behavior of the \n",
    "class. When you send a message to an object, you are asking the object to invoke or execute one of its methods.\n",
    "\n",
    "Attribute\n",
    "Attribute is a named property of a class. It has a type. It describes the range of values that that property may hold.\n",
    "\n",
    "Behavior\n",
    "The behavior of an object is defined by its methods, which are the functions and subroutines defined within the object class. Without class methods, a class would simply be a structure.\"\"\")"
   ]
  },
  {
   "cell_type": "code",
   "execution_count": 7,
   "metadata": {},
   "outputs": [
    {
     "name": "stdout",
     "output_type": "stream",
     "text": [
      "this car name is :  \n",
      "AUDI\n",
      "QKL-740\n"
     ]
    }
   ],
   "source": [
    "# Write a code in python in which create a class named it Car which have 5 attributes such like (model, color and name etc.) and 3 methods. And create 5 object instance from that class.\n",
    "\n",
    "class Car:\n",
    "    def __init__(self,model,color,name,company,number):\n",
    "        self.model=model\n",
    "        self.color=color\n",
    "        self.name=name\n",
    "        self.company=company\n",
    "        self.number=number\n",
    "        \n",
    "    def print_name(self):\n",
    "        print(\"this car name is : \",self.name)\n",
    "            \n",
    "    def print_UPdatecompany(self):\n",
    "        self.company=\"AUDI\"\n",
    "        print(self.company)\n",
    "            \n",
    "    def print_number(self):\n",
    "        print(self.number)\n",
    "            \n",
    "car1=Car('2015','pearl white','','BMW X1','QKL-740')\n",
    "car2=Car('2005','pearl white','mark x','Toyota','ALQ-788')\n",
    "car3=Car('2002','pearl white','Estima','Toyota','AXG-790')\n",
    "car4=Car('2018','pearl white','audi A6','audi','AAA-999')\n",
    "car5=Car('2019','pearl white','Land cruiser','Toyota','BF-9988')\n",
    "\n",
    "\n",
    "\n",
    "car1.print_name()\n",
    "car1.print_UPdatecompany()\n",
    "car1.print_number()\n"
   ]
  },
  {
   "cell_type": "code",
   "execution_count": null,
   "metadata": {},
   "outputs": [],
   "source": []
  }
 ],
 "metadata": {
  "kernelspec": {
   "display_name": "Python 3",
   "language": "python",
   "name": "python3"
  },
  "language_info": {
   "codemirror_mode": {
    "name": "ipython",
    "version": 3
   },
   "file_extension": ".py",
   "mimetype": "text/x-python",
   "name": "python",
   "nbconvert_exporter": "python",
   "pygments_lexer": "ipython3",
   "version": "3.7.0"
  }
 },
 "nbformat": 4,
 "nbformat_minor": 2
}
