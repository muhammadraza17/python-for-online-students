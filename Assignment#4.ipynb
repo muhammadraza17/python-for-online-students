{
 "cells": [
  {
   "cell_type": "code",
   "execution_count": 3,
   "metadata": {},
   "outputs": [
    {
     "data": {
      "text/plain": [
       "{'first_name': 'muhammad', 'last_name': 'raza', 'age': 17, 'city ': 'karachi'}"
      ]
     },
     "execution_count": 3,
     "metadata": {},
     "output_type": "execute_result"
    }
   ],
   "source": [
    "#1\n",
    "MR={\n",
    "     \"first_name\":\"muhammad\",\n",
    "     \"last_name\":\"raza\",\n",
    "     \"age\":17,\n",
    "     \"city \":\"karachi\"}\n",
    "MR"
   ]
  },
  {
   "cell_type": "code",
   "execution_count": 4,
   "metadata": {},
   "outputs": [
    {
     "data": {
      "text/plain": [
       "{'first_name': 'muhammad',\n",
       " 'last_name': 'raza',\n",
       " 'age': 17,\n",
       " 'city ': 'karachi',\n",
       " 'qualification': 'graduate'}"
      ]
     },
     "execution_count": 4,
     "metadata": {},
     "output_type": "execute_result"
    }
   ],
   "source": [
    "MR.update({\"qualification\":\"graduate\"})\n",
    "MR"
   ]
  },
  {
   "cell_type": "code",
   "execution_count": 5,
   "metadata": {},
   "outputs": [
    {
     "data": {
      "text/plain": [
       "{'first_name': 'muhammad', 'last_name': 'raza', 'age': 17, 'city ': 'karachi'}"
      ]
     },
     "execution_count": 5,
     "metadata": {},
     "output_type": "execute_result"
    }
   ],
   "source": [
    "del MR['qualification']\n",
    "MR\n"
   ]
  },
  {
   "cell_type": "code",
   "execution_count": 6,
   "metadata": {},
   "outputs": [
    {
     "name": "stdout",
     "output_type": "stream",
     "text": [
      "Name of city is  karachi\n",
      "Country Name is :  Pakistan\n",
      "Approximate population is :  24000k\n",
      "Fact of the city is :  city of lights\n",
      "\n",
      "Name of city is  Toronto\n",
      "Country Name is :  canada\n",
      "Approximate population is :  37000k\n",
      "Fact of the city is :  Canada is the second largest country in the world, right after Russia\n",
      "\n",
      "Name of city is  Tokyo\n",
      "Country Name is :  Japan\n",
      "Approximate population is :  2.8m\n",
      "Fact of the city is :  staple food is fish\n",
      "\n"
     ]
    }
   ],
   "source": [
    "#2\n",
    "mr_city =  {\n",
    "  \"karachi\": {\"country_name\":\"Pakistan\", \"population\":\"24000k\",\"fact\":\"city of lights\"},\n",
    "  \"Toronto\": {\"country_name\":\"canada\",\"population\":\"37000k\",\"fact\":\"Canada is the second largest country in the world, right after Russia\"},\n",
    "  \"Tokyo\": {\"country_name\":\"Japan\",\"population\":\"2.8m\",\"fact\":\"staple food is fish\"},\n",
    "             }\n",
    "for i in mr_city.keys():\n",
    "    print(\"Name of city is \", i)\n",
    "    print(\"Country Name is : \" , mr_city[i][\"country_name\"])\n",
    "    print(\"Approximate population is : \" , mr_city[i][\"population\"])\n",
    "    print(\"Fact of the city is : \" , mr_city[i][\"fact\"])\n",
    "    print(\"\")"
   ]
  },
  {
   "cell_type": "code",
   "execution_count": 7,
   "metadata": {},
   "outputs": [
    {
     "name": "stdout",
     "output_type": "stream",
     "text": [
      "enter your age?1\n",
      "your ticket is free.\n"
     ]
    }
   ],
   "source": [
    "#3\n",
    "age  = int(input(\"enter your age?\"))\n",
    "for m in range (0,3):\n",
    "    if age <3:\n",
    "        print(\"your ticket is free.\")\n",
    "        break\n",
    "    elif age <=12 and age >=3:\n",
    "        print(\"your ticket price is 10$.\")\n",
    "        break\n",
    "    elif age >12:\n",
    "        print(\"your ticket price is 15$.\")\n",
    "        break"
   ]
  },
  {
   "cell_type": "code",
   "execution_count": 8,
   "metadata": {},
   "outputs": [
    {
     "name": "stdout",
     "output_type": "stream",
     "text": [
      "My favorite book is Alice in Wonderland\n"
     ]
    }
   ],
   "source": [
    "#4\n",
    "def favorite_book(book = \"Alice in Wonderland\"):\n",
    "  print(\"My favorite book is \" + book)\n",
    "favorite_book()\n"
   ]
  },
  {
   "cell_type": "code",
   "execution_count": 9,
   "metadata": {},
   "outputs": [
    {
     "name": "stdout",
     "output_type": "stream",
     "text": [
      "Guess the number between 1 to 30 : 28\n",
      "Your guess is too high\n",
      "Guess the number between 1 to 30 : 25\n",
      "Your guess is too high\n",
      "Guess the number between 1 to 30 : 3\n",
      "Your guess is too high\n",
      "You Loose\n",
      "Correct Number is  1\n"
     ]
    }
   ],
   "source": [
    "#5\n",
    "import random\n",
    "\n",
    "random_number = random.randrange(1,30)\n",
    "\n",
    "flag = False\n",
    "\n",
    "for i in range(1,4):\n",
    "    guess = int(input(\"Guess the number between 1 to 30 : \"))\n",
    "    if guess == random_number:\n",
    "        flag = True \n",
    "        break\n",
    "    elif guess < random_number:\n",
    "        print(\"Your guess is too low\")\n",
    "    else:\n",
    "        print(\"Your guess is too high\")\n",
    "        \n",
    "if flag:\n",
    "    print(\"Congratulation you Win!!\")\n",
    "else:\n",
    "    print(\"You Loose\")\n",
    "    print(\"Correct Number is \", random_number)\n",
    "    "
   ]
  },
  {
   "cell_type": "code",
   "execution_count": null,
   "metadata": {},
   "outputs": [],
   "source": []
  }
 ],
 "metadata": {
  "kernelspec": {
   "display_name": "Python 3",
   "language": "python",
   "name": "python3"
  },
  "language_info": {
   "codemirror_mode": {
    "name": "ipython",
    "version": 3
   },
   "file_extension": ".py",
   "mimetype": "text/x-python",
   "name": "python",
   "nbconvert_exporter": "python",
   "pygments_lexer": "ipython3",
   "version": "3.7.4"
  }
 },
 "nbformat": 4,
 "nbformat_minor": 2
}
