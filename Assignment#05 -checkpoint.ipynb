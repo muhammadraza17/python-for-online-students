{
 "cells": [
  {
   "cell_type": "code",
   "execution_count": 14,
   "metadata": {},
   "outputs": [
    {
     "name": "stdout",
     "output_type": "stream",
     "text": [
      "Enter your number: 4\n",
      "24\n"
     ]
    }
   ],
   "source": [
    "#1\n",
    "def factorial(num):\n",
    "    if num == 0:\n",
    "        return 1\n",
    "    else:\n",
    "        return num * factorial(num-1)\n",
    "num=int(input(\"Enter your number: \"))\n",
    "print(factorial(num))"
   ]
  },
  {
   "cell_type": "code",
   "execution_count": 16,
   "metadata": {},
   "outputs": [
    {
     "name": "stdout",
     "output_type": "stream",
     "text": [
      "('Lower case characters = 10', 'Upper case characters = 2')\n"
     ]
    }
   ],
   "source": [
    "#2\n",
    "def upperlower(string): \n",
    "  \n",
    "    upper = 0\n",
    "    lower = 0\n",
    "  \n",
    "    for i in range(len(string)): \n",
    "          \n",
    "        if (ord(string[i]) >= 97 and\n",
    "            ord(string[i]) <= 122): \n",
    "            lower += 1\n",
    "  \n",
    " \n",
    "        elif (ord(string[i]) >= 65 and\n",
    "              ord(string[i]) <= 90): \n",
    "            upper += 1\n",
    "  \n",
    "    print('Lower case characters = %s' %lower, \n",
    "          'Upper case characters = %s' %upper) \n",
    "  \n",
    "\n",
    "string = 'Muhammad Raza'\n",
    "upperlower(string) \n"
   ]
  },
  {
   "cell_type": "code",
   "execution_count": 17,
   "metadata": {},
   "outputs": [
    {
     "name": "stdout",
     "output_type": "stream",
     "text": [
      "2\n",
      "4\n",
      "6\n",
      "8\n",
      "10\n"
     ]
    }
   ],
   "source": [
    "#3\n",
    "my_num_list = [1,2,3,4,5,6,7,8,9,10,11]\n",
    "def even(my_num_list):\n",
    "    for m in my_num_list:\n",
    "        check = m %2\n",
    "        if check == 0:\n",
    "            print(m)\n",
    "\n",
    "even(my_num_list)\n"
   ]
  },
  {
   "cell_type": "code",
   "execution_count": 18,
   "metadata": {},
   "outputs": [
    {
     "name": "stdout",
     "output_type": "stream",
     "text": [
      "Yes\n"
     ]
    }
   ],
   "source": [
    "#4\n",
    "def reverse(s): \n",
    "    return s[::-1] \n",
    "  \n",
    "def isPalindrome(s): \n",
    "    rev = reverse(s) \n",
    "    if (s == rev): \n",
    "        return True\n",
    "    return False\n",
    "s = \"madam\"\n",
    "ans = isPalindrome(s) \n",
    "if ans == 1: \n",
    "    print(\"Yes\") \n",
    "else: \n",
    "    print(\"No\") "
   ]
  },
  {
   "cell_type": "code",
   "execution_count": 1,
   "metadata": {},
   "outputs": [
    {
     "name": "stdout",
     "output_type": "stream",
     "text": [
      "(11, 'is a prime number')\n"
     ]
    }
   ],
   "source": [
    "#5\n",
    "num = 11\n",
    "  \n",
    "# If given number is greater than 1 \n",
    "if num > 1: \n",
    "      \n",
    "   # Iterate from 2 to n / 2  \n",
    "   for i in range(2, num//2): \n",
    "         \n",
    "       # If num is divisible by any number between  \n",
    "       # 2 and n / 2, it is not prime  \n",
    "       if (num % i) == 0: \n",
    "           print(num, \"is not a prime number\") \n",
    "           break\n",
    "   else: \n",
    "       print(num, \"is a prime number\") \n",
    "  \n",
    "else: \n",
    "   print(num, \"is not a prime number\")"
   ]
  },
  {
   "cell_type": "code",
   "execution_count": 4,
   "metadata": {},
   "outputs": [
    {
     "name": "stdout",
     "output_type": "stream",
     "text": [
      "How many numbers you wish to check: 5\n",
      "2\n",
      "3\n",
      "We found 2 prime numbers.\n"
     ]
    }
   ],
   "source": [
    "#6\n",
    "prime_numbers = 0\n",
    "def is_prime_number(x):\n",
    "    if x >= 2:\n",
    "        for y in range(2,x):\n",
    "            if not ( x % y ):\n",
    "                return False\n",
    "    else:\n",
    "     return False\n",
    "    return True\n",
    "            \n",
    "\n",
    "for m in range(int(raw_input(\"How many numbers you want to check: \"))):\n",
    "    if is_prime_number(m):\n",
    "        prime_numbers += 1\n",
    "        print m\n",
    "\n",
    "print \"We found \" + str(prime_numbers) + \" prime numbers.\""
   ]
  },
  {
   "cell_type": "code",
   "execution_count": null,
   "metadata": {},
   "outputs": [],
   "source": []
  }
 ],
 "metadata": {
  "kernelspec": {
   "display_name": "Python 2",
   "language": "python",
   "name": "python2"
  },
  "language_info": {
   "codemirror_mode": {
    "name": "ipython",
    "version": 2
   },
   "file_extension": ".py",
   "mimetype": "text/x-python",
   "name": "python",
   "nbconvert_exporter": "python",
   "pygments_lexer": "ipython2",
   "version": "2.7.15"
  }
 },
 "nbformat": 4,
 "nbformat_minor": 2
}
